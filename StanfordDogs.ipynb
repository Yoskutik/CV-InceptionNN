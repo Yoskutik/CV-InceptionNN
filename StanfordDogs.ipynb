{
 "cells": [
  {
   "cell_type": "markdown",
   "metadata": {},
   "source": [
    "## Downloading dataset"
   ]
  },
  {
   "cell_type": "code",
   "execution_count": 1,
   "metadata": {
    "colab": {
     "base_uri": "https://localhost:8080/",
     "height": 85
    },
    "colab_type": "code",
    "id": "b0OS8QoYelMI",
    "outputId": "cb016031-8368-4b38-88d8-82c0ea3b455b"
   },
   "outputs": [
    {
     "name": "stdout",
     "output_type": "stream",
     "text": [
      "Downloading stanford-dogs-dataset.zip to data\n",
      " 97% 729M/750M [00:10<00:00, 74.5MB/s]\n",
      "100% 750M/750M [00:10<00:00, 72.8MB/s]\n"
     ]
    }
   ],
   "source": [
    "!kaggle datasets download jessicali9530/stanford-dogs-dataset -p data -o --unzip"
   ]
  },
  {
   "cell_type": "markdown",
   "metadata": {},
   "source": [
    "Although setting seed cannot help with getting rid of randomness due to GPU usage, it can reduce it"
   ]
  },
  {
   "cell_type": "code",
   "execution_count": 2,
   "metadata": {},
   "outputs": [],
   "source": [
    "import numpy as np\n",
    "import tensorflow as tf\n",
    "import random\n",
    "\n",
    "random.seed(42)\n",
    "np.random.seed(42)\n",
    "tf.random.set_seed(42)"
   ]
  },
  {
   "cell_type": "markdown",
   "metadata": {},
   "source": [
    "This is just for visualisation"
   ]
  },
  {
   "cell_type": "code",
   "execution_count": 3,
   "metadata": {
    "colab": {},
    "colab_type": "code",
    "id": "PL7es_-8EEqQ"
   },
   "outputs": [],
   "source": [
    "import os \n",
    "\n",
    "def print_progress_bar(iteration: int, total: int, progress: str = ''):\n",
    "    percent = f\"{100 * (iteration / float(total)):3.2f}\"\n",
    "    progress = (progress + \" progress\") if progress != \"\" else \"Progress\"\n",
    "    length = 127 - len(progress) - len(percent) - 15\n",
    "    filled_length = int(length * iteration // total)\n",
    "    bar = '=' * filled_length + ('>' if filled_length + 1 <= length else '') + ' ' * (length - filled_length - 1)\n",
    "    print(f'\\r{progress}: |{bar}| {percent}% Complete', end='\\n' if iteration == total else '')"
   ]
  },
  {
   "cell_type": "markdown",
   "metadata": {},
   "source": [
    "## Preprocessing data\n",
    "\n",
    "### Cropping images"
   ]
  },
  {
   "cell_type": "code",
   "execution_count": 4,
   "metadata": {
    "colab": {
     "base_uri": "https://localhost:8080/",
     "height": 34
    },
    "colab_type": "code",
    "id": "Y6ZYEZ-0YWkp",
    "outputId": "6c4cc8e2-c5f7-4187-a577-a3bd8cef5df7"
   },
   "outputs": [
    {
     "name": "stdout",
     "output_type": "stream",
     "text": [
      "Cropping progress: |====================================================================| 100.00% Complete\n"
     ]
    }
   ],
   "source": [
    "from PIL import Image\n",
    "import xml.etree.ElementTree as ET\n",
    "from glob import glob\n",
    "import shutil\n",
    "\n",
    "\n",
    "images_dir = 'data/images/Images'\n",
    "annots_dir = 'data/annotations/Annotation'\n",
    "cropps_dir = 'data/cropped_images'\n",
    "\n",
    "\n",
    "def save_cropped_img(path, annotation, newpath):\n",
    "    root = ET.parse(annotation).getroot()\n",
    "    xmin = int(root.findall('.//xmin')[0].text)\n",
    "    xmax = int(root.findall('.//xmax')[0].text)\n",
    "    ymin = int(root.findall('.//ymin')[0].text)\n",
    "    ymax = int(root.findall('.//ymax')[0].text)\n",
    "    image = Image.open(path)\n",
    "    image = image.crop((xmin, ymin, xmax, ymax))\n",
    "    image = image.convert('RGB')\n",
    "    image.save(newpath)\n",
    "\n",
    "def crop_images():\n",
    "    total_images = 0\n",
    "    for directory in glob(f'{images_dir}/*'):\n",
    "        total_images += len(glob(f'{directory}/*.jpg'))\n",
    "    \n",
    "    iteration = 0\n",
    "    print_progress_bar(iteration, total_images, progress='Cropping')\n",
    "    for breed in os.listdir(images_dir):\n",
    "        os.makedirs(f'{cropps_dir}/{breed[10:].capitalize()}', exist_ok=True)\n",
    "        \n",
    "        for image in os.listdir(os.path.join(images_dir, breed)):\n",
    "            save_cropped_img(f'{images_dir}/{breed}/{image}', \n",
    "                             f'{annots_dir}/{breed}/{image[:-4]}', \n",
    "                             f'{cropps_dir}/{breed[10:].capitalize()}/{image}')\n",
    "            iteration += 1\n",
    "            print_progress_bar(iteration, total_images, progress='Cropping')\n",
    "    return total_images\n",
    "\n",
    "total_images = crop_images()\n",
    "\n",
    "shutil.rmtree(images_dir)\n",
    "shutil.rmtree(annots_dir)"
   ]
  },
  {
   "cell_type": "markdown",
   "metadata": {},
   "source": [
    "### Splitting into subsets"
   ]
  },
  {
   "cell_type": "code",
   "execution_count": 5,
   "metadata": {
    "colab": {
     "base_uri": "https://localhost:8080/",
     "height": 34
    },
    "colab_type": "code",
    "id": "5HbPy7UbE6Pm",
    "outputId": "8e86dd31-3649-4a46-b19d-3ecc305ef1ec"
   },
   "outputs": [
    {
     "name": "stdout",
     "output_type": "stream",
     "text": [
      "Splitting progress: |===================================================================| 100.00% Complete\n"
     ]
    }
   ],
   "source": [
    "TEST_SIZE = 0.1\n",
    "VAL_SIZE = 0.1\n",
    "\n",
    "iteration = 0\n",
    "print_progress_bar(iteration, total_images, progress='Splitting')\n",
    "\n",
    "for breed in os.listdir(cropps_dir):\n",
    "    os.makedirs(f'data/train/{breed}', exist_ok=True)\n",
    "    os.makedirs(f'data/val/{breed}', exist_ok=True)\n",
    "    os.makedirs(f'data/test/{breed}', exist_ok=True)\n",
    "    images = glob(f'{cropps_dir}/{breed}/*.jpg')\n",
    "    \n",
    "    for image in images[:int(len(images) * (1 - TEST_SIZE - VAL_SIZE))]:\n",
    "        shutil.copy(image, f'data/train/{breed}')\n",
    "        iteration += 1\n",
    "        print_progress_bar(iteration, total_images, progress='Splitting')\n",
    "        \n",
    "    for image in images[int(len(images) * (1 - TEST_SIZE - VAL_SIZE)):int(len(images) * (1 - TEST_SIZE))]:\n",
    "        shutil.copy(image, f'data/val/{breed}')\n",
    "        iteration += 1\n",
    "        print_progress_bar(iteration, total_images, progress='Splitting')\n",
    "        \n",
    "    for image in images[int(len(images) * (1 - TEST_SIZE)):]:\n",
    "        shutil.copy(image, f'data/test/{breed}')\n",
    "        iteration += 1\n",
    "        print_progress_bar(iteration, total_images, progress='Splitting')"
   ]
  },
  {
   "cell_type": "markdown",
   "metadata": {},
   "source": [
    "## Training model"
   ]
  },
  {
   "cell_type": "code",
   "execution_count": 6,
   "metadata": {
    "colab": {},
    "colab_type": "code",
    "id": "9WpD393PFKjF"
   },
   "outputs": [],
   "source": [
    "from tensorflow.keras.applications.mobilenet_v2 import preprocess_input, MobileNetV2\n",
    "from tensorflow.keras.layers import *\n",
    "from tensorflow.keras.models import Model\n",
    "from tensorflow.keras.optimizers import Adam\n",
    "from tensorflow.keras.callbacks import *\n",
    "from tensorflow.keras.metrics import top_k_categorical_accuracy\n",
    "from tensorflow.keras.preprocessing.image import ImageDataGenerator"
   ]
  },
  {
   "cell_type": "markdown",
   "metadata": {},
   "source": [
    "Using callbacks is pretting cool. For example, if training progress is stacked because of too high learning rate, __ReduceLROnPlateau__ can reduce its value. In principle, it is clear from the names what they do."
   ]
  },
  {
   "cell_type": "code",
   "execution_count": 7,
   "metadata": {
    "colab": {},
    "colab_type": "code",
    "id": "O4QW_EXlFvJI"
   },
   "outputs": [],
   "source": [
    "callbacks = [\n",
    "    ModelCheckpoint(\n",
    "        filepath='best_model.h5',\n",
    "        monitor='val_acc',\n",
    "        save_best_only=True\n",
    "    ),\n",
    "    CSVLogger(\n",
    "        filename='history.csv'  \n",
    "    ),\n",
    "    EarlyStopping(\n",
    "        monitor='val_acc',\n",
    "        min_delta=1e-4,\n",
    "        patience=10,\n",
    "        restore_best_weights=True\n",
    "    ),\n",
    "    ReduceLROnPlateau(\n",
    "        monitor='val_acc',\n",
    "        factor=0.6,\n",
    "        patience=5,\n",
    "        min_lr=3e-6,\n",
    "    ),\n",
    "]"
   ]
  },
  {
   "cell_type": "code",
   "execution_count": 8,
   "metadata": {
    "colab": {},
    "colab_type": "code",
    "id": "4FCrwWU3MKnj"
   },
   "outputs": [],
   "source": [
    "target_size = (160, 160)\n",
    "batch_size = 50"
   ]
  },
  {
   "cell_type": "markdown",
   "metadata": {},
   "source": [
    "So why did I create special function <b>conv2d</b> and don't use just Conv2D from tf.keras.layers? Because of keras' Conv2D does not have <i>BatchNormalization</i> by default. If you want to know about this technique read <a href=\"https://arxiv.org/pdf/1502.03167.pdf\">this</a>.\n",
    "\n",
    "What it <i>inception block</i>? Oh dear, you definitely should read this one <a href=\"https://arxiv.org/pdf/1409.4842.pdf\">Going deeper with convolutions</a>.\n",
    "\n",
    "By the way I'm also using <i>short connections</i> later. So there is some <a href=\"https://arxiv.org/pdf/1512.03385.pdf\">info</a>."
   ]
  },
  {
   "cell_type": "code",
   "execution_count": 9,
   "metadata": {
    "colab": {},
    "colab_type": "code",
    "id": "iiP-qGGfkayZ"
   },
   "outputs": [],
   "source": [
    "def conv2d(filters, kernel_size, prev_layer, activation='relu'):\n",
    "    layer = Conv2D(filters, kernel_size, padding='same')(prev_layer)\n",
    "    layer = BatchNormalization()(layer)\n",
    "    layer = Activation(activation)(layer)\n",
    "    return layer\n",
    "\n",
    "def inception_block(n_filters, prev_layer, compress_to=None):\n",
    "    layer_conv11 = conv2d(n_filters, (1, 1), prev_layer)\n",
    "    if compress_to is None:\n",
    "        layer_conv33 = conv2d(n_filters, (3, 3), prev_layer)\n",
    "        layer_conv55 = conv2d(n_filters, (5, 5), prev_layer)\n",
    "    else:\n",
    "        layer_conv33 = conv2d(n_filters, (3, 3), conv2d(compress_to, (1, 1), prev_layer))\n",
    "        layer_conv55 = conv2d(n_filters, (5, 5), conv2d(compress_to, (1, 1), prev_layer))\n",
    "    return concatenate([\n",
    "        layer_conv11, layer_conv33, layer_conv55\n",
    "    ])"
   ]
  },
  {
   "cell_type": "markdown",
   "metadata": {},
   "source": [
    "And now let's mix up all techniques we've got."
   ]
  },
  {
   "cell_type": "code",
   "execution_count": 10,
   "metadata": {
    "colab": {
     "base_uri": "https://localhost:8080/",
     "height": 51
    },
    "colab_type": "code",
    "id": "K-mczV2dJYYF",
    "outputId": "bde31e2b-97d1-417e-c773-a7a963c0952b"
   },
   "outputs": [],
   "source": [
    "base_model = MobileNetV2(\n",
    "    include_top=False, \n",
    "    input_shape=(*target_size, 3)\n",
    ")\n",
    "\n",
    "layer = inception_block(256, base_model.output, compress_to=128)\n",
    "layer = inception_block(512, layer, compress_to=128)\n",
    "layer = concatenate([\n",
    "    GlobalAvgPool2D()(layer),\n",
    "    GlobalAvgPool2D()(base_model.output),\n",
    "]) \n",
    "layer = Dense(256, activation='relu')(layer)\n",
    "layer = BatchNormalization()(layer)\n",
    "out = Dense(120, activation='softmax')(layer)\n",
    "\n",
    "model = Model(inputs=base_model.input, outputs=out)\n",
    "\n",
    "def top_2_acc(x, y):\n",
    "    return top_k_categorical_accuracy(x, y, 2)\n",
    "\n",
    "model.compile(optimizer=Adam(lr=8e-5),\n",
    "              loss='categorical_crossentropy',\n",
    "              metrics=[\"acc\", top_2_acc])"
   ]
  },
  {
   "cell_type": "markdown",
   "metadata": {},
   "source": [
    "This is for data augmentation. An attempt to avoid overfitting."
   ]
  },
  {
   "cell_type": "code",
   "execution_count": 11,
   "metadata": {
    "colab": {
     "base_uri": "https://localhost:8080/",
     "height": 51
    },
    "colab_type": "code",
    "id": "UjjHDZX9JYeg",
    "outputId": "04f10f60-99e4-4cb7-8890-ae4f9cbd5e45"
   },
   "outputs": [
    {
     "name": "stdout",
     "output_type": "stream",
     "text": [
      "Found 16986 images belonging to 120 classes.\n",
      "Found 1859 images belonging to 120 classes.\n"
     ]
    }
   ],
   "source": [
    "data_generator = ImageDataGenerator(\n",
    "    zoom_range=0.2,\n",
    "    shear_range=0.2,\n",
    "    rotation_range=10,\n",
    "    brightness_range=[0.7, 1.3],\n",
    "    channel_shift_range=0.15,\n",
    "    horizontal_flip=True,\n",
    "    preprocessing_function=preprocess_input\n",
    ")\n",
    "\n",
    "train_generator = data_generator.flow_from_directory(\n",
    "    'data/train',\n",
    "    target_size=target_size,\n",
    "    batch_size=batch_size,\n",
    ")\n",
    "val_generator = data_generator.flow_from_directory(\n",
    "    'data/val',\n",
    "    target_size=target_size,\n",
    "    batch_size=batch_size,\n",
    ")"
   ]
  },
  {
   "cell_type": "code",
   "execution_count": 12,
   "metadata": {
    "colab": {
     "base_uri": "https://localhost:8080/",
     "height": 289
    },
    "colab_type": "code",
    "id": "YYzEDhY4JYni",
    "outputId": "f44b04d8-e5e6-44a3-e398-0a6837817fe2"
   },
   "outputs": [
    {
     "name": "stdout",
     "output_type": "stream",
     "text": [
      "Train for 340 steps, validate for 38 steps\n",
      "Epoch 1/150\n",
      "340/340 [==============================] - 174s 511ms/step - loss: 2.4631 - acc: 0.4417 - top_2_acc: 0.5679 - val_loss: 1.4516 - val_acc: 0.6127 - val_top_2_acc: 0.7676\n",
      "Epoch 2/150\n",
      "340/340 [==============================] - 172s 506ms/step - loss: 1.0100 - acc: 0.7244 - top_2_acc: 0.8584 - val_loss: 1.1531 - val_acc: 0.6643 - val_top_2_acc: 0.8117\n",
      "Epoch 3/150\n",
      "340/340 [==============================] - 171s 503ms/step - loss: 0.7057 - acc: 0.8025 - top_2_acc: 0.9138 - val_loss: 1.0533 - val_acc: 0.7004 - val_top_2_acc: 0.8289\n",
      "Epoch 4/150\n",
      "340/340 [==============================] - 167s 490ms/step - loss: 0.5247 - acc: 0.8541 - top_2_acc: 0.9460 - val_loss: 0.9065 - val_acc: 0.7348 - val_top_2_acc: 0.8709\n",
      "Epoch 5/150\n",
      "340/340 [==============================] - 162s 476ms/step - loss: 0.3887 - acc: 0.8935 - top_2_acc: 0.9649 - val_loss: 0.9648 - val_acc: 0.7257 - val_top_2_acc: 0.8591\n",
      "Epoch 6/150\n",
      "340/340 [==============================] - 161s 472ms/step - loss: 0.3072 - acc: 0.9138 - top_2_acc: 0.9769 - val_loss: 0.9145 - val_acc: 0.7413 - val_top_2_acc: 0.8693\n",
      "Epoch 7/150\n",
      "340/340 [==============================] - 166s 488ms/step - loss: 0.2298 - acc: 0.9405 - top_2_acc: 0.9859 - val_loss: 0.8804 - val_acc: 0.7483 - val_top_2_acc: 0.8849\n",
      "Epoch 8/150\n",
      "340/340 [==============================] - 163s 479ms/step - loss: 0.1793 - acc: 0.9535 - top_2_acc: 0.9917 - val_loss: 0.8915 - val_acc: 0.7456 - val_top_2_acc: 0.8827\n",
      "Epoch 9/150\n",
      "340/340 [==============================] - 163s 481ms/step - loss: 0.1450 - acc: 0.9640 - top_2_acc: 0.9936 - val_loss: 0.9438 - val_acc: 0.7300 - val_top_2_acc: 0.8687\n",
      "Epoch 10/150\n",
      "340/340 [==============================] - 161s 474ms/step - loss: 0.1189 - acc: 0.9712 - top_2_acc: 0.9963 - val_loss: 0.9865 - val_acc: 0.7504 - val_top_2_acc: 0.8687\n",
      "Epoch 11/150\n",
      "340/340 [==============================] - 168s 494ms/step - loss: 0.1020 - acc: 0.9745 - top_2_acc: 0.9968 - val_loss: 0.9607 - val_acc: 0.7461 - val_top_2_acc: 0.8725\n",
      "Epoch 12/150\n",
      "340/340 [==============================] - 166s 488ms/step - loss: 0.0991 - acc: 0.9758 - top_2_acc: 0.9971 - val_loss: 0.9973 - val_acc: 0.7445 - val_top_2_acc: 0.8650\n",
      "Epoch 13/150\n",
      "340/340 [==============================] - 160s 471ms/step - loss: 0.0899 - acc: 0.9774 - top_2_acc: 0.9972 - val_loss: 0.9649 - val_acc: 0.7552 - val_top_2_acc: 0.8747\n",
      "Epoch 14/150\n",
      "340/340 [==============================] - 160s 471ms/step - loss: 0.0837 - acc: 0.9799 - top_2_acc: 0.9974 - val_loss: 1.0884 - val_acc: 0.7370 - val_top_2_acc: 0.8580\n",
      "Epoch 15/150\n",
      "340/340 [==============================] - 154s 453ms/step - loss: 0.0758 - acc: 0.9814 - top_2_acc: 0.9979 - val_loss: 1.1144 - val_acc: 0.7337 - val_top_2_acc: 0.8558\n",
      "Epoch 16/150\n",
      "340/340 [==============================] - 157s 463ms/step - loss: 0.0782 - acc: 0.9783 - top_2_acc: 0.9967 - val_loss: 1.0895 - val_acc: 0.7327 - val_top_2_acc: 0.8704\n",
      "Epoch 17/150\n",
      "340/340 [==============================] - 160s 470ms/step - loss: 0.0605 - acc: 0.9857 - top_2_acc: 0.9986 - val_loss: 1.0846 - val_acc: 0.7466 - val_top_2_acc: 0.8607\n",
      "Epoch 18/150\n",
      "340/340 [==============================] - 161s 473ms/step - loss: 0.0633 - acc: 0.9830 - top_2_acc: 0.9981 - val_loss: 1.1168 - val_acc: 0.7364 - val_top_2_acc: 0.8531\n",
      "Epoch 19/150\n",
      "340/340 [==============================] - 156s 459ms/step - loss: 0.0449 - acc: 0.9886 - top_2_acc: 0.9987 - val_loss: 0.9160 - val_acc: 0.7762 - val_top_2_acc: 0.8881\n",
      "Epoch 20/150\n",
      "340/340 [==============================] - 156s 458ms/step - loss: 0.0254 - acc: 0.9953 - top_2_acc: 0.9995 - val_loss: 0.9394 - val_acc: 0.7719 - val_top_2_acc: 0.8827\n",
      "Epoch 21/150\n",
      "340/340 [==============================] - 164s 482ms/step - loss: 0.0244 - acc: 0.9947 - top_2_acc: 0.9995 - val_loss: 0.9526 - val_acc: 0.7671 - val_top_2_acc: 0.8779\n",
      "Epoch 22/150\n",
      "340/340 [==============================] - 154s 454ms/step - loss: 0.0249 - acc: 0.9947 - top_2_acc: 0.9996 - val_loss: 0.9582 - val_acc: 0.7682 - val_top_2_acc: 0.8779\n",
      "Epoch 23/150\n",
      "340/340 [==============================] - 156s 460ms/step - loss: 0.0191 - acc: 0.9961 - top_2_acc: 0.9995 - val_loss: 0.9375 - val_acc: 0.7735 - val_top_2_acc: 0.8924\n",
      "Epoch 24/150\n",
      "340/340 [==============================] - 155s 455ms/step - loss: 0.0201 - acc: 0.9960 - top_2_acc: 0.9995 - val_loss: 0.9599 - val_acc: 0.7719 - val_top_2_acc: 0.8860\n",
      "Epoch 25/150\n",
      "340/340 [==============================] - 158s 463ms/step - loss: 0.0155 - acc: 0.9970 - top_2_acc: 0.9998 - val_loss: 0.9273 - val_acc: 0.7886 - val_top_2_acc: 0.8919\n",
      "Epoch 26/150\n",
      "340/340 [==============================] - 155s 456ms/step - loss: 0.0110 - acc: 0.9985 - top_2_acc: 0.9999 - val_loss: 0.9128 - val_acc: 0.7746 - val_top_2_acc: 0.8935\n",
      "Epoch 27/150\n",
      "340/340 [==============================] - 157s 461ms/step - loss: 0.0121 - acc: 0.9978 - top_2_acc: 0.9997 - val_loss: 0.9767 - val_acc: 0.7719 - val_top_2_acc: 0.8892\n",
      "Epoch 28/150\n",
      "340/340 [==============================] - 156s 458ms/step - loss: 0.0097 - acc: 0.9986 - top_2_acc: 0.9999 - val_loss: 0.9529 - val_acc: 0.7698 - val_top_2_acc: 0.8892\n",
      "Epoch 29/150\n",
      "340/340 [==============================] - 157s 462ms/step - loss: 0.0099 - acc: 0.9985 - top_2_acc: 0.9998 - val_loss: 0.9892 - val_acc: 0.7773 - val_top_2_acc: 0.8886\n",
      "Epoch 30/150\n",
      "340/340 [==============================] - 156s 459ms/step - loss: 0.0115 - acc: 0.9975 - top_2_acc: 0.9999 - val_loss: 0.9897 - val_acc: 0.7751 - val_top_2_acc: 0.8800\n",
      "Epoch 31/150\n",
      "340/340 [==============================] - 160s 470ms/step - loss: 0.0079 - acc: 0.9987 - top_2_acc: 1.0000 - val_loss: 0.9927 - val_acc: 0.7800 - val_top_2_acc: 0.8860\n",
      "Epoch 32/150\n",
      "340/340 [==============================] - 161s 472ms/step - loss: 0.0075 - acc: 0.9988 - top_2_acc: 0.9998 - val_loss: 0.9590 - val_acc: 0.7741 - val_top_2_acc: 0.8876\n",
      "Epoch 33/150\n",
      "340/340 [==============================] - 160s 471ms/step - loss: 0.0056 - acc: 0.9991 - top_2_acc: 0.9999 - val_loss: 0.9646 - val_acc: 0.7907 - val_top_2_acc: 0.8946\n",
      "Epoch 34/150\n",
      "340/340 [==============================] - 160s 472ms/step - loss: 0.0063 - acc: 0.9990 - top_2_acc: 1.0000 - val_loss: 0.9545 - val_acc: 0.7838 - val_top_2_acc: 0.8892\n",
      "Epoch 35/150\n",
      "340/340 [==============================] - 158s 466ms/step - loss: 0.0061 - acc: 0.9991 - top_2_acc: 0.9999 - val_loss: 0.9989 - val_acc: 0.7789 - val_top_2_acc: 0.8892\n",
      "Epoch 36/150\n",
      "340/340 [==============================] - 156s 460ms/step - loss: 0.0069 - acc: 0.9989 - top_2_acc: 1.0000 - val_loss: 0.9724 - val_acc: 0.7762 - val_top_2_acc: 0.8919\n",
      "Epoch 37/150\n",
      "340/340 [==============================] - 159s 468ms/step - loss: 0.0074 - acc: 0.9988 - top_2_acc: 0.9999 - val_loss: 0.9663 - val_acc: 0.7762 - val_top_2_acc: 0.8930\n",
      "Epoch 38/150\n",
      "340/340 [==============================] - 156s 459ms/step - loss: 0.0059 - acc: 0.9994 - top_2_acc: 1.0000 - val_loss: 0.9684 - val_acc: 0.7875 - val_top_2_acc: 0.8962\n",
      "Epoch 39/150\n",
      "340/340 [==============================] - 158s 466ms/step - loss: 0.0048 - acc: 0.9992 - top_2_acc: 0.9999 - val_loss: 0.9654 - val_acc: 0.7870 - val_top_2_acc: 0.8946\n",
      "Epoch 40/150\n",
      "340/340 [==============================] - 160s 470ms/step - loss: 0.0044 - acc: 0.9994 - top_2_acc: 0.9999 - val_loss: 0.9550 - val_acc: 0.7795 - val_top_2_acc: 0.8897\n",
      "Epoch 41/150\n",
      "340/340 [==============================] - 156s 460ms/step - loss: 0.0032 - acc: 0.9998 - top_2_acc: 1.0000 - val_loss: 0.9439 - val_acc: 0.7934 - val_top_2_acc: 0.9005\n",
      "Epoch 42/150\n",
      "340/340 [==============================] - 159s 467ms/step - loss: 0.0032 - acc: 0.9996 - top_2_acc: 1.0000 - val_loss: 0.9211 - val_acc: 0.7891 - val_top_2_acc: 0.8951\n",
      "Epoch 43/150\n",
      "340/340 [==============================] - 158s 466ms/step - loss: 0.0034 - acc: 0.9998 - top_2_acc: 1.0000 - val_loss: 0.9116 - val_acc: 0.7999 - val_top_2_acc: 0.8962\n",
      "Epoch 44/150\n",
      "340/340 [==============================] - 161s 474ms/step - loss: 0.0039 - acc: 0.9994 - top_2_acc: 1.0000 - val_loss: 0.9522 - val_acc: 0.7994 - val_top_2_acc: 0.8989\n",
      "Epoch 45/150\n",
      "340/340 [==============================] - 154s 453ms/step - loss: 0.0025 - acc: 0.9998 - top_2_acc: 1.0000 - val_loss: 0.9534 - val_acc: 0.7929 - val_top_2_acc: 0.8930\n",
      "Epoch 46/150\n",
      "340/340 [==============================] - 157s 461ms/step - loss: 0.0023 - acc: 0.9998 - top_2_acc: 1.0000 - val_loss: 0.9923 - val_acc: 0.7854 - val_top_2_acc: 0.8897\n",
      "Epoch 47/150\n",
      "340/340 [==============================] - 159s 468ms/step - loss: 0.0042 - acc: 0.9991 - top_2_acc: 1.0000 - val_loss: 0.9697 - val_acc: 0.7956 - val_top_2_acc: 0.9016\n",
      "Epoch 48/150\n",
      "340/340 [==============================] - 159s 467ms/step - loss: 0.0035 - acc: 0.9994 - top_2_acc: 1.0000 - val_loss: 1.0059 - val_acc: 0.7795 - val_top_2_acc: 0.8876\n",
      "Epoch 49/150\n",
      "340/340 [==============================] - 159s 467ms/step - loss: 0.0023 - acc: 0.9998 - top_2_acc: 1.0000 - val_loss: 1.0047 - val_acc: 0.7811 - val_top_2_acc: 0.8913\n",
      "Epoch 50/150\n",
      "340/340 [==============================] - 159s 468ms/step - loss: 0.0027 - acc: 0.9998 - top_2_acc: 0.9999 - val_loss: 0.9642 - val_acc: 0.7940 - val_top_2_acc: 0.9026\n",
      "Epoch 51/150\n",
      "340/340 [==============================] - 155s 457ms/step - loss: 0.0020 - acc: 0.9997 - top_2_acc: 1.0000 - val_loss: 0.9474 - val_acc: 0.7956 - val_top_2_acc: 0.8978\n",
      "Epoch 52/150\n",
      "340/340 [==============================] - 154s 452ms/step - loss: 0.0021 - acc: 0.9999 - top_2_acc: 1.0000 - val_loss: 0.9756 - val_acc: 0.7886 - val_top_2_acc: 0.8892\n",
      "Epoch 53/150\n",
      "340/340 [==============================] - 157s 462ms/step - loss: 0.0024 - acc: 0.9997 - top_2_acc: 1.0000 - val_loss: 0.9657 - val_acc: 0.7838 - val_top_2_acc: 0.8897\n",
      "Wall time: 2h 21min 1s\n"
     ]
    }
   ],
   "source": [
    "%%time\n",
    "\n",
    "history = model.fit(\n",
    "    train_generator, \n",
    "    epochs=150,\n",
    "    steps_per_epoch=len(train_generator), \n",
    "    validation_data=val_generator, \n",
    "    validation_steps=len(val_generator),\n",
    "    callbacks=callbacks)"
   ]
  },
  {
   "cell_type": "markdown",
   "metadata": {},
   "source": [
    "## Evaluating model"
   ]
  },
  {
   "cell_type": "code",
   "execution_count": 13,
   "metadata": {},
   "outputs": [
    {
     "name": "stdout",
     "output_type": "stream",
     "text": [
      "Found 1850 images belonging to 120 classes.\n",
      "Found 1909 images belonging to 120 classes.\n"
     ]
    }
   ],
   "source": [
    "dg = ImageDataGenerator(preprocessing_function=preprocess_input)\n",
    "\n",
    "val_generator = dg.flow_from_directory(\n",
    "    'data/val',\n",
    "    target_size=target_size,\n",
    "    batch_size=batch_size,\n",
    ")\n",
    "test_generator = dg.flow_from_directory(\n",
    "    'data/test',\n",
    "    target_size=target_size,\n",
    "    batch_size=batch_size,\n",
    ")"
   ]
  },
  {
   "cell_type": "code",
   "execution_count": 14,
   "metadata": {},
   "outputs": [
    {
     "name": "stdout",
     "output_type": "stream",
     "text": [
      "37/37 [==============================] - 3s 83ms/step - loss: 0.2102 - acc: 0.9486 - top_2_acc: 0.9773\n",
      "39/39 [==============================] - 3s 82ms/step - loss: 0.2380 - acc: 0.9460 - top_2_acc: 0.9764\n",
	  "",
      "Validation accuracy: 0.9486     Validation top 2 accuracy: 0.9773  \n",
      "Testing accuracy:    0.946      Testing top 2 accuracy:    0.9764  \n"
     ]
    }
   ],
   "source": [
    "val_score = model.evaluate(val_generator)\n",
    "test_score = model.evaluate(test_generator)\n",
    "\n",
    "print()\n",
    "print(f'Validation accuracy: {val_score[1]:<8.4}   Validation top 2 accuracy: {val_score[2]:<8.4}')\n",
    "print(f'Testing accuracy:    {test_score[1]:<8.4}   Testing top 2 accuracy:    {test_score[2]:<8.4}')"
   ]
  },
  {
   "cell_type": "markdown",
   "metadata": {},
   "source": [
    "## Hell yeah.  \n",
    "  \n",
    "  \n",
    "__94.6%__ of accuracy, __97.64%__ of top 2 accuracy.  \n",
    "\n",
    "Even I can't predict better"
   ]
  },
  {
   "cell_type": "markdown",
   "metadata": {},
   "source": [
    "## Okey, GRAPH TIME"
   ]
  },
  {
   "cell_type": "code",
   "execution_count": 15,
   "metadata": {},
   "outputs": [],
   "source": [
    "import matplotlib.pyplot as plt\n",
    "import pandas as pd"
   ]
  },
  {
   "cell_type": "code",
   "execution_count": 16,
   "metadata": {},
   "outputs": [
    {
     "data": {
      "text/html": [
       "<div>\n",
       "<style scoped>\n",
       "    .dataframe tbody tr th:only-of-type {\n",
       "        vertical-align: middle;\n",
       "    }\n",
       "\n",
       "    .dataframe tbody tr th {\n",
       "        vertical-align: top;\n",
       "    }\n",
       "\n",
       "    .dataframe thead th {\n",
       "        text-align: right;\n",
       "    }\n",
       "</style>\n",
       "<table border=\"1\" class=\"dataframe\">\n",
       "  <thead>\n",
       "    <tr style=\"text-align: right;\">\n",
       "      <th></th>\n",
       "      <th>acc</th>\n",
       "      <th>loss</th>\n",
       "      <th>top_2_acc</th>\n",
       "      <th>val_acc</th>\n",
       "      <th>val_loss</th>\n",
       "      <th>val_top_2_acc</th>\n",
       "    </tr>\n",
       "    <tr>\n",
       "      <th>epoch</th>\n",
       "      <th></th>\n",
       "      <th></th>\n",
       "      <th></th>\n",
       "      <th></th>\n",
       "      <th></th>\n",
       "      <th></th>\n",
       "    </tr>\n",
       "  </thead>\n",
       "  <tbody>\n",
       "    <tr>\n",
       "      <th>0</th>\n",
       "      <td>0.441658</td>\n",
       "      <td>2.462501</td>\n",
       "      <td>0.567879</td>\n",
       "      <td>0.612695</td>\n",
       "      <td>1.451629</td>\n",
       "      <td>0.767617</td>\n",
       "    </tr>\n",
       "    <tr>\n",
       "      <th>1</th>\n",
       "      <td>0.724420</td>\n",
       "      <td>1.010405</td>\n",
       "      <td>0.858354</td>\n",
       "      <td>0.664336</td>\n",
       "      <td>1.153066</td>\n",
       "      <td>0.811727</td>\n",
       "    </tr>\n",
       "    <tr>\n",
       "      <th>2</th>\n",
       "      <td>0.802543</td>\n",
       "      <td>0.706073</td>\n",
       "      <td>0.913752</td>\n",
       "      <td>0.700377</td>\n",
       "      <td>1.053343</td>\n",
       "      <td>0.828940</td>\n",
       "    </tr>\n",
       "  </tbody>\n",
       "</table>\n",
       "</div>"
      ],
      "text/plain": [
       "            acc      loss  top_2_acc   val_acc  val_loss  val_top_2_acc\n",
       "epoch                                                                  \n",
       "0      0.441658  2.462501   0.567879  0.612695  1.451629       0.767617\n",
       "1      0.724420  1.010405   0.858354  0.664336  1.153066       0.811727\n",
       "2      0.802543  0.706073   0.913752  0.700377  1.053343       0.828940"
      ]
     },
     "execution_count": 16,
     "metadata": {},
     "output_type": "execute_result"
    }
   ],
   "source": [
    "df = pd.read_csv('history.csv', index_col='epoch')\n",
    "df.head(3)"
   ]
  },
  {
   "cell_type": "code",
   "execution_count": 17,
   "metadata": {},
   "outputs": [
    {
     "data": {
      "image/png": "[encoded data removed]",
      "text/plain": [
       "<Figure size 1080x576 with 1 Axes>"
      ]
     },
     "metadata": {
      "needs_background": "light"
     },
     "output_type": "display_data"
    }
   ],
   "source": [
    "plt.figure(figsize=[15,8])\n",
    "plt.plot(df.acc, 'b')\n",
    "plt.plot(df.top_2_acc, 'b--')\n",
    "plt.plot(df.val_acc, 'r')\n",
    "plt.plot(df.val_top_2_acc, 'r--')\n",
    "plt.show()"
   ]
  },
  {
   "cell_type": "code",
   "execution_count": 18,
   "metadata": {},
   "outputs": [
    {
     "data": {
      "image/png": "[encoded data removed]",
      "text/plain": [
       "<Figure size 1080x576 with 1 Axes>"
      ]
     },
     "metadata": {
      "needs_background": "light"
     },
     "output_type": "display_data"
    }
   ],
   "source": [
    "plt.figure(figsize=[15,8])\n",
    "plt.plot(df.loss, 'b')\n",
    "plt.plot(df.val_loss, 'r')\n",
    "plt.show()"
   ]
  },
  {
   "cell_type": "markdown",
   "metadata": {},
   "source": [
    "All right fellow kids, so what can we see here?  \n",
    "  \n",
    "Looks like this model is stucked at __80%__ of accuracy score on validation subset. But earlier we saw that this model processes about __95%__ of images without augmentation correctly. And what does it mean?\n",
    "\n",
    "The dataset is not too big for classification of 120 breeds. Due to this fact, and due to the presence of randomness, it turned out that the image augmentation in the training dataset helped with increasing the quality, while the augmentation in the validation one only interfered.\n",
    "\n",
    "But anyway. In the end, __94.86%__ and __94.60%__ are pretty good quality indicators, so I don't think I'll retrain my model later, because I'he already spent 2 week making it predict better. I started from VGGNet implementation, tried a lot of other techniques, and literally every additional percentage of accuracy made me happier."
   ]
  }
 ],
 "metadata": {
  "accelerator": "GPU",
  "colab": {
   "collapsed_sections": [],
   "name": "StanfordDogs.ipynb",
   "provenance": []
  },
  "kernelspec": {
   "display_name": "Python 3",
   "language": "python",
   "name": "python3"
  },
  "language_info": {
   "codemirror_mode": {
    "name": "ipython",
    "version": 3
   },
   "file_extension": ".py",
   "mimetype": "text/x-python",
   "name": "python",
   "nbconvert_exporter": "python",
   "pygments_lexer": "ipython3",
   "version": "3.7.6"
  }
 },
 "nbformat": 4,
 "nbformat_minor": 1
}
